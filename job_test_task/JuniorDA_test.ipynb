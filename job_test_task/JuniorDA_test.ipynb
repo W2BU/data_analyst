{
 "cells": [
  {
   "cell_type": "markdown",
   "id": "da66f0b3-77c0-45b7-b5fc-3ed7b7168fd9",
   "metadata": {},
   "source": [
    "# Задачи на логику"
   ]
  },
  {
   "cell_type": "markdown",
   "id": "81d78830-0c99-4c58-8a34-4276d2109622",
   "metadata": {},
   "source": [
    "1. Рекламная кампания стартовала вчера с дневным бюджетом 40 $. Половина\n",
    "бюджета была израсходована к полудню, а 80% оставшегося бюджета было\n",
    "потрачено между полуднем и временем закрытия. Сколько долларов не было\n",
    "потрачено?"
   ]
  },
  {
   "cell_type": "code",
   "execution_count": 1,
   "id": "39253c2c-118b-4698-8788-5c039bc59cae",
   "metadata": {},
   "outputs": [
    {
     "data": {
      "text/plain": [
       "4.0"
      ]
     },
     "execution_count": 1,
     "metadata": {},
     "output_type": "execute_result"
    }
   ],
   "source": [
    "40 - (40 / 2 + (40 / 2) * 0.8)"
   ]
  },
  {
   "cell_type": "markdown",
   "id": "9914519a-e0c0-4c69-a09d-51f277b664fd",
   "metadata": {},
   "source": [
    "2. 5 идентичных рекламных кампаний работали 24 дня по 6 часов в день,\n",
    "потрачено было 120 долларов. Сколько дней они работали бы на 216 долларов,\n",
    "если бы 9 одинаковых кампаний работали бы по 8 часов в день?"
   ]
  },
  {
   "cell_type": "markdown",
   "id": "3030f3e4-159c-48af-926f-c270fe452b5e",
   "metadata": {},
   "source": [
    "x - затраты одной компании дол/час\n",
    "y - количество рабочих дней для 9 компаний\n",
    "\n",
    "5 * 24 * 6 * x = 120\n",
    "9 * y * x * 8 = 216\n",
    "\n",
    "720 / 72y = 120/216\n",
    "120y = 2160\n",
    "y = 18"
   ]
  },
  {
   "cell_type": "markdown",
   "id": "a03c2871-db99-4ff5-b803-72e6e1aac507",
   "metadata": {},
   "source": [
    "3. Дизайнеры создали 200 рекламных баннеров для двух рекламных кампаний. 80\n",
    "из них не использовались ни в кампании No1, ни в кампании No2, 60\n",
    "использовались только в кампании No1. И для каждого рекламного баннера,\n",
    "который использовался в обеих кампаниях, приходится 3 баннера, которые\n",
    "использовались только в кампании No2. Сколько баннеров было использовано в\n",
    "обеих рекламных кампаниях?"
   ]
  },
  {
   "cell_type": "markdown",
   "id": "ed75a77e-82f5-4271-8c76-a6306223c611",
   "metadata": {},
   "source": [
    "200 - 80 = 120 свободных\n",
    "( 60 ( x )  3x) - пересечение двух множеств\n",
    " ^ No1     ^ No2\n",
    "\n",
    "60 + x + 3x + x = 120\n",
    "5x = 60\n",
    "x = 12\n",
    "\n",
    "12 в обеих, 72 в первой, 48 во второй"
   ]
  },
  {
   "cell_type": "markdown",
   "id": "94966d72-ca62-4e8f-8734-a660ed339448",
   "metadata": {},
   "source": [
    "4. Энн использует Instagram, но не Facebook, а Джон использует Youtube и\n",
    "Facebook. Кейт использует Youtube, но не Instagram, а Том использует Facebook,\n",
    "но не Youtube. Если каждый человек использует две из трех социальных сетей,\n",
    "у кого предпочтения совпадают?"
   ]
  },
  {
   "cell_type": "raw",
   "id": "8f3a6dcd-8cb2-4fa7-adae-afa9bdfd5965",
   "metadata": {},
   "source": [
    "Исходные данные\n",
    "I  F  Y\n",
    "+  -  ?  Э\n",
    "?  +  +  Д\n",
    "?  +  -  Т\n",
    "\n",
    "Если каждый использует две их трех соц. сетей\n",
    "I  F  Y\n",
    "+  -  +  Э\n",
    "-  +  +  Д\n",
    "+  +  -  Т\n",
    "\n",
    "Предпочтения совпадают между Энн и Джоном по Youtubе, между Дожном и Томом по Facebook, между Энн и Томом по Instagramm"
   ]
  },
  {
   "cell_type": "markdown",
   "id": "02f04d95-da5a-4a62-9209-c5e302796b27",
   "metadata": {},
   "source": [
    "5. Средний итоговый балл стажера по 4 модулям составляет 78 баллов. Сколько\n",
    "баллов должен получить стажер за 5-й модуль, чтобы средний балл по всему\n",
    "заданию составил 80?"
   ]
  },
  {
   "cell_type": "markdown",
   "id": "b970822b-f37b-4e13-86e0-9aed0b1a53f3",
   "metadata": {},
   "source": [
    "x - сумма за 4 модуля\n",
    "y - балл за пятый\n",
    "\n",
    "x / 4 = 78\n",
    "x = 312\n",
    "\n",
    "(312 + y) / 5 = 80\n",
    "y = 400 - 312 = 88"
   ]
  },
  {
   "cell_type": "markdown",
   "id": "9d55704e-0095-43ad-b9f2-33b343ee7c2d",
   "metadata": {},
   "source": [
    "6. Заказанные в приложении товары доставляются на автомобиле. Автомобиль\n",
    "проезжает 260 км со средней скоростью 80 км / ч. На обратном пути машина\n",
    "движется со средней скоростью 100 км / ч. Насколько быстрее был обратный\n",
    "путь? Ответ указать в минутах."
   ]
  },
  {
   "cell_type": "markdown",
   "id": "ddc64dd5-558c-4d9f-811e-92b39d240e54",
   "metadata": {},
   "source": [
    "80 * x = 260\n",
    "путь1 = 260 / 80 = 13 / 4 = 3.25 часа\n",
    "путь2 = 260 / 100 = 2.6 часа\n",
    "обратный путь был быстрее на (3.25 - 2.6) * 60 = 0.65 * 60 = 39 минут"
   ]
  },
  {
   "cell_type": "markdown",
   "id": "e5dfa993-400c-44a2-9983-17f95f606826",
   "metadata": {},
   "source": [
    "# Техническое задание"
   ]
  },
  {
   "cell_type": "markdown",
   "id": "4f8b78dd-7d60-4a21-a43a-98430bdaf735",
   "metadata": {},
   "source": [
    "## Обзор и предварительная обработка"
   ]
  },
  {
   "cell_type": "code",
   "execution_count": 2,
   "id": "a9c4f311-195d-42f4-83dd-d607747d480b",
   "metadata": {},
   "outputs": [],
   "source": [
    "import pandas as pd\n",
    "import numpy as np"
   ]
  },
  {
   "cell_type": "code",
   "execution_count": 3,
   "id": "537cb5fb-dffa-4e2b-b643-64aa88c8feb1",
   "metadata": {},
   "outputs": [
    {
     "data": {
      "text/plain": [
       "'https://drive.google.com/uc?id=1t2Bl9Jc0JCWOaeFgADJ2bVdoLdjDTWno'"
      ]
     },
     "execution_count": 3,
     "metadata": {},
     "output_type": "execute_result"
    }
   ],
   "source": [
    "url='https://docs.google.com/spreadsheets/d/1t2Bl9Jc0JCWOaeFgADJ2bVdoLdjDTWno/edit?usp=drive_link'\n",
    "url='https://drive.google.com/uc?id=' + url.split('/')[-2]\n",
    "url"
   ]
  },
  {
   "cell_type": "code",
   "execution_count": 4,
   "id": "bfc05ad9-2e25-4165-994f-cb980c99fcf1",
   "metadata": {},
   "outputs": [],
   "source": [
    "df = pd.read_excel(url)"
   ]
  },
  {
   "cell_type": "code",
   "execution_count": 5,
   "id": "90770d44-b212-41c6-930b-999c707804c8",
   "metadata": {},
   "outputs": [
    {
     "data": {
      "text/html": [
       "<div>\n",
       "<style scoped>\n",
       "    .dataframe tbody tr th:only-of-type {\n",
       "        vertical-align: middle;\n",
       "    }\n",
       "\n",
       "    .dataframe tbody tr th {\n",
       "        vertical-align: top;\n",
       "    }\n",
       "\n",
       "    .dataframe thead th {\n",
       "        text-align: right;\n",
       "    }\n",
       "</style>\n",
       "<table border=\"1\" class=\"dataframe\">\n",
       "  <thead>\n",
       "    <tr style=\"text-align: right;\">\n",
       "      <th></th>\n",
       "      <th>client_id</th>\n",
       "      <th>sum</th>\n",
       "      <th>status</th>\n",
       "      <th>sale</th>\n",
       "      <th>new/current</th>\n",
       "      <th>Unnamed: 5</th>\n",
       "      <th>document</th>\n",
       "      <th>receiving_date</th>\n",
       "    </tr>\n",
       "  </thead>\n",
       "  <tbody>\n",
       "    <tr>\n",
       "      <th>0</th>\n",
       "      <td>NaN</td>\n",
       "      <td>NaN</td>\n",
       "      <td>Май 2021</td>\n",
       "      <td>NaN</td>\n",
       "      <td>NaN</td>\n",
       "      <td>NaN</td>\n",
       "      <td>NaN</td>\n",
       "      <td>NaN</td>\n",
       "    </tr>\n",
       "    <tr>\n",
       "      <th>1</th>\n",
       "      <td>6.0</td>\n",
       "      <td>11693.7</td>\n",
       "      <td>ВНУТРЕННИЙ</td>\n",
       "      <td>-</td>\n",
       "      <td>-</td>\n",
       "      <td>NaN</td>\n",
       "      <td>-</td>\n",
       "      <td>-</td>\n",
       "    </tr>\n",
       "    <tr>\n",
       "      <th>2</th>\n",
       "      <td>14.0</td>\n",
       "      <td>5452.7</td>\n",
       "      <td>ОПЛАЧЕНО</td>\n",
       "      <td>Петрова</td>\n",
       "      <td>новая</td>\n",
       "      <td>NaN</td>\n",
       "      <td>оригинал</td>\n",
       "      <td>2021-07-26 00:00:00</td>\n",
       "    </tr>\n",
       "    <tr>\n",
       "      <th>3</th>\n",
       "      <td>15.0</td>\n",
       "      <td>13991.7</td>\n",
       "      <td>ОПЛАЧЕНО</td>\n",
       "      <td>Иванов</td>\n",
       "      <td>текущая</td>\n",
       "      <td>NaN</td>\n",
       "      <td>оригинал</td>\n",
       "      <td>2021-06-08 00:00:00</td>\n",
       "    </tr>\n",
       "    <tr>\n",
       "      <th>4</th>\n",
       "      <td>16.0</td>\n",
       "      <td>719.7</td>\n",
       "      <td>ОПЛАЧЕНО</td>\n",
       "      <td>Иванов</td>\n",
       "      <td>текущая</td>\n",
       "      <td>NaN</td>\n",
       "      <td>оригинал</td>\n",
       "      <td>2021-06-08 00:00:00</td>\n",
       "    </tr>\n",
       "  </tbody>\n",
       "</table>\n",
       "</div>"
      ],
      "text/plain": [
       "   client_id      sum      status     sale new/current  Unnamed: 5  document  \\\n",
       "0        NaN      NaN    Май 2021      NaN         NaN         NaN       NaN   \n",
       "1        6.0  11693.7  ВНУТРЕННИЙ        -           -         NaN         -   \n",
       "2       14.0   5452.7    ОПЛАЧЕНО  Петрова       новая         NaN  оригинал   \n",
       "3       15.0  13991.7    ОПЛАЧЕНО   Иванов     текущая         NaN  оригинал   \n",
       "4       16.0    719.7    ОПЛАЧЕНО   Иванов     текущая         NaN  оригинал   \n",
       "\n",
       "        receiving_date  \n",
       "0                  NaN  \n",
       "1                    -  \n",
       "2  2021-07-26 00:00:00  \n",
       "3  2021-06-08 00:00:00  \n",
       "4  2021-06-08 00:00:00  "
      ]
     },
     "execution_count": 5,
     "metadata": {},
     "output_type": "execute_result"
    }
   ],
   "source": [
    "df.head()"
   ]
  },
  {
   "cell_type": "code",
   "execution_count": 6,
   "id": "0743e1fb-cfe3-4b96-b130-a648b1d444da",
   "metadata": {},
   "outputs": [
    {
     "data": {
      "text/plain": [
       "(730, 8)"
      ]
     },
     "execution_count": 6,
     "metadata": {},
     "output_type": "execute_result"
    }
   ],
   "source": [
    "df.shape"
   ]
  },
  {
   "cell_type": "markdown",
   "id": "9479b568-8462-44bc-bae0-32fc8a07d6ed",
   "metadata": {},
   "source": [
    "Проверка количества NaN"
   ]
  },
  {
   "cell_type": "code",
   "execution_count": 7,
   "id": "ba724fcf-c582-445e-96c3-bc11035a0395",
   "metadata": {},
   "outputs": [
    {
     "data": {
      "text/plain": [
       "client_id           6\n",
       "sum                 6\n",
       "status              0\n",
       "sale                6\n",
       "new/current         6\n",
       "Unnamed: 5        730\n",
       "document           21\n",
       "receiving_date    123\n",
       "dtype: int64"
      ]
     },
     "execution_count": 7,
     "metadata": {},
     "output_type": "execute_result"
    }
   ],
   "source": [
    "df.isna().sum()"
   ]
  },
  {
   "cell_type": "code",
   "execution_count": 8,
   "id": "249540f4-87e5-468b-a16e-608f93b0d653",
   "metadata": {},
   "outputs": [
    {
     "data": {
      "text/plain": [
       "client_id         float64\n",
       "sum               float64\n",
       "status             object\n",
       "sale               object\n",
       "new/current        object\n",
       "Unnamed: 5        float64\n",
       "document           object\n",
       "receiving_date     object\n",
       "dtype: object"
      ]
     },
     "execution_count": 8,
     "metadata": {},
     "output_type": "execute_result"
    }
   ],
   "source": [
    "df.dtypes"
   ]
  },
  {
   "cell_type": "markdown",
   "id": "cb57ccc1-6eba-4373-992e-fa66c0af1905",
   "metadata": {},
   "source": [
    "Избавляемся от полностью пустых столбцов"
   ]
  },
  {
   "cell_type": "code",
   "execution_count": 9,
   "id": "fe18ad09-b056-4eca-96e3-1793dfdb0872",
   "metadata": {},
   "outputs": [],
   "source": [
    "empty_cols = df.isnull().all(axis = 0)\n",
    "empty_cols_names = empty_cols[empty_cols == True].index.tolist()"
   ]
  },
  {
   "cell_type": "code",
   "execution_count": 10,
   "id": "9ab4c2ab-afff-4508-b779-7a19f9cb034a",
   "metadata": {},
   "outputs": [],
   "source": [
    "df.drop(empty_cols_names, axis = 1, inplace = True)"
   ]
  },
  {
   "cell_type": "code",
   "execution_count": 11,
   "id": "e5f5b595-3d0c-439f-8522-95c7be491d83",
   "metadata": {},
   "outputs": [
    {
     "data": {
      "text/html": [
       "<div>\n",
       "<style scoped>\n",
       "    .dataframe tbody tr th:only-of-type {\n",
       "        vertical-align: middle;\n",
       "    }\n",
       "\n",
       "    .dataframe tbody tr th {\n",
       "        vertical-align: top;\n",
       "    }\n",
       "\n",
       "    .dataframe thead th {\n",
       "        text-align: right;\n",
       "    }\n",
       "</style>\n",
       "<table border=\"1\" class=\"dataframe\">\n",
       "  <thead>\n",
       "    <tr style=\"text-align: right;\">\n",
       "      <th></th>\n",
       "      <th>client_id</th>\n",
       "      <th>sum</th>\n",
       "      <th>status</th>\n",
       "      <th>sale</th>\n",
       "      <th>new/current</th>\n",
       "      <th>document</th>\n",
       "      <th>receiving_date</th>\n",
       "    </tr>\n",
       "  </thead>\n",
       "  <tbody>\n",
       "    <tr>\n",
       "      <th>0</th>\n",
       "      <td>NaN</td>\n",
       "      <td>NaN</td>\n",
       "      <td>Май 2021</td>\n",
       "      <td>NaN</td>\n",
       "      <td>NaN</td>\n",
       "      <td>NaN</td>\n",
       "      <td>NaN</td>\n",
       "    </tr>\n",
       "    <tr>\n",
       "      <th>1</th>\n",
       "      <td>6.0</td>\n",
       "      <td>11693.7</td>\n",
       "      <td>ВНУТРЕННИЙ</td>\n",
       "      <td>-</td>\n",
       "      <td>-</td>\n",
       "      <td>-</td>\n",
       "      <td>-</td>\n",
       "    </tr>\n",
       "    <tr>\n",
       "      <th>2</th>\n",
       "      <td>14.0</td>\n",
       "      <td>5452.7</td>\n",
       "      <td>ОПЛАЧЕНО</td>\n",
       "      <td>Петрова</td>\n",
       "      <td>новая</td>\n",
       "      <td>оригинал</td>\n",
       "      <td>2021-07-26 00:00:00</td>\n",
       "    </tr>\n",
       "    <tr>\n",
       "      <th>3</th>\n",
       "      <td>15.0</td>\n",
       "      <td>13991.7</td>\n",
       "      <td>ОПЛАЧЕНО</td>\n",
       "      <td>Иванов</td>\n",
       "      <td>текущая</td>\n",
       "      <td>оригинал</td>\n",
       "      <td>2021-06-08 00:00:00</td>\n",
       "    </tr>\n",
       "    <tr>\n",
       "      <th>4</th>\n",
       "      <td>16.0</td>\n",
       "      <td>719.7</td>\n",
       "      <td>ОПЛАЧЕНО</td>\n",
       "      <td>Иванов</td>\n",
       "      <td>текущая</td>\n",
       "      <td>оригинал</td>\n",
       "      <td>2021-06-08 00:00:00</td>\n",
       "    </tr>\n",
       "    <tr>\n",
       "      <th>...</th>\n",
       "      <td>...</td>\n",
       "      <td>...</td>\n",
       "      <td>...</td>\n",
       "      <td>...</td>\n",
       "      <td>...</td>\n",
       "      <td>...</td>\n",
       "      <td>...</td>\n",
       "    </tr>\n",
       "    <tr>\n",
       "      <th>725</th>\n",
       "      <td>285.0</td>\n",
       "      <td>4328.7</td>\n",
       "      <td>ОПЛАЧЕНО</td>\n",
       "      <td>Васильев</td>\n",
       "      <td>текущая</td>\n",
       "      <td>оригинал</td>\n",
       "      <td>2021-11-15 00:00:00</td>\n",
       "    </tr>\n",
       "    <tr>\n",
       "      <th>726</th>\n",
       "      <td>360.0</td>\n",
       "      <td>3096.2</td>\n",
       "      <td>ОПЛАЧЕНО</td>\n",
       "      <td>Васильев</td>\n",
       "      <td>новая</td>\n",
       "      <td>НЕТ</td>\n",
       "      <td>NaN</td>\n",
       "    </tr>\n",
       "    <tr>\n",
       "      <th>727</th>\n",
       "      <td>360.0</td>\n",
       "      <td>3096.2</td>\n",
       "      <td>ПРОСРОЧЕНО</td>\n",
       "      <td>Васильев</td>\n",
       "      <td>новая</td>\n",
       "      <td>НЕТ</td>\n",
       "      <td>NaN</td>\n",
       "    </tr>\n",
       "    <tr>\n",
       "      <th>728</th>\n",
       "      <td>373.0</td>\n",
       "      <td>4403.7</td>\n",
       "      <td>ОПЛАЧЕНО</td>\n",
       "      <td>Михайлов</td>\n",
       "      <td>новая</td>\n",
       "      <td>оригинал</td>\n",
       "      <td>2021-11-08 00:00:00</td>\n",
       "    </tr>\n",
       "    <tr>\n",
       "      <th>729</th>\n",
       "      <td>286.0</td>\n",
       "      <td>3978.7</td>\n",
       "      <td>ОПЛАЧЕНО</td>\n",
       "      <td>Филимонова</td>\n",
       "      <td>текущая</td>\n",
       "      <td>оригинал</td>\n",
       "      <td>2021-11-15 00:00:00</td>\n",
       "    </tr>\n",
       "  </tbody>\n",
       "</table>\n",
       "<p>730 rows × 7 columns</p>\n",
       "</div>"
      ],
      "text/plain": [
       "     client_id      sum      status        sale new/current  document  \\\n",
       "0          NaN      NaN    Май 2021         NaN         NaN       NaN   \n",
       "1          6.0  11693.7  ВНУТРЕННИЙ           -           -         -   \n",
       "2         14.0   5452.7    ОПЛАЧЕНО     Петрова       новая  оригинал   \n",
       "3         15.0  13991.7    ОПЛАЧЕНО      Иванов     текущая  оригинал   \n",
       "4         16.0    719.7    ОПЛАЧЕНО      Иванов     текущая  оригинал   \n",
       "..         ...      ...         ...         ...         ...       ...   \n",
       "725      285.0   4328.7    ОПЛАЧЕНО    Васильев     текущая  оригинал   \n",
       "726      360.0   3096.2    ОПЛАЧЕНО    Васильев       новая       НЕТ   \n",
       "727      360.0   3096.2  ПРОСРОЧЕНО    Васильев       новая       НЕТ   \n",
       "728      373.0   4403.7    ОПЛАЧЕНО    Михайлов       новая  оригинал   \n",
       "729      286.0   3978.7    ОПЛАЧЕНО  Филимонова     текущая  оригинал   \n",
       "\n",
       "          receiving_date  \n",
       "0                    NaN  \n",
       "1                      -  \n",
       "2    2021-07-26 00:00:00  \n",
       "3    2021-06-08 00:00:00  \n",
       "4    2021-06-08 00:00:00  \n",
       "..                   ...  \n",
       "725  2021-11-15 00:00:00  \n",
       "726                  NaN  \n",
       "727                  NaN  \n",
       "728  2021-11-08 00:00:00  \n",
       "729  2021-11-15 00:00:00  \n",
       "\n",
       "[730 rows x 7 columns]"
      ]
     },
     "execution_count": 11,
     "metadata": {},
     "output_type": "execute_result"
    }
   ],
   "source": [
    "df"
   ]
  },
  {
   "cell_type": "markdown",
   "id": "23c55fcd-2982-4518-8970-c58fa67e1a96",
   "metadata": {},
   "source": [
    "Избавляемся от разделений на периоды в столбце неподходящем для этого столбце status"
   ]
  },
  {
   "cell_type": "code",
   "execution_count": 12,
   "id": "5a43215f-c163-4d6d-b273-270cbbf35637",
   "metadata": {},
   "outputs": [
    {
     "data": {
      "text/plain": [
       "[0, 129, 258, 369, 484, 594]"
      ]
     },
     "execution_count": 12,
     "metadata": {},
     "output_type": "execute_result"
    }
   ],
   "source": [
    "date_indexes = df.loc[:, df.columns != 'status'].isnull().all(axis = 1)\n",
    "date_indexes = date_indexes[date_indexes == True].index.tolist()\n",
    "date_indexes"
   ]
  },
  {
   "cell_type": "code",
   "execution_count": 13,
   "id": "0871a983-668e-4b70-b9c6-565e128cb3f1",
   "metadata": {},
   "outputs": [
    {
     "data": {
      "text/plain": [
       "[('Май', 2021),\n",
       " ('Июнь', 2021),\n",
       " ('Июль', 2021),\n",
       " ('Август', 2021),\n",
       " ('Сентябрь', 2021),\n",
       " ('Октябрь', 2021)]"
      ]
     },
     "execution_count": 13,
     "metadata": {},
     "output_type": "execute_result"
    }
   ],
   "source": [
    "date_names = df.iloc[date_indexes].status.tolist()\n",
    "date_names = [(date.split(' ')[0], int(date.split(' ')[1])) for date in date_names]\n",
    "date_names"
   ]
  },
  {
   "cell_type": "code",
   "execution_count": 14,
   "id": "554ee47e-fd9d-4eb7-aaa0-dab5cc49f499",
   "metadata": {},
   "outputs": [],
   "source": [
    "month_name_to_number = dict(map(lambda x, y : (x[0],y), date_names, range(5, 11, 1)))"
   ]
  },
  {
   "cell_type": "code",
   "execution_count": 15,
   "id": "db1e5106-be21-4bb9-9518-7b1f0bc162bd",
   "metadata": {},
   "outputs": [
    {
     "data": {
      "text/plain": [
       "[(0, 128), (129, 257), (258, 368), (369, 483), (484, 593), (594, 729)]"
      ]
     },
     "execution_count": 15,
     "metadata": {},
     "output_type": "execute_result"
    }
   ],
   "source": [
    "from itertools import pairwise\n",
    "date_indexes.append(df.shape[0])\n",
    "date_ranges = [(pair[0], pair[1] - 1) for pair in pairwise(date_indexes)]\n",
    "date_ranges"
   ]
  },
  {
   "cell_type": "code",
   "execution_count": 16,
   "id": "699ec92e-2d09-4ded-9834-793c769d3a27",
   "metadata": {},
   "outputs": [],
   "source": [
    "for date_range, date_name in zip(date_ranges, date_names):\n",
    "    left, right = date_range\n",
    "    month, year = date_name\n",
    "    df.loc[left:right, 'current_year'] = year\n",
    "    df.loc[left:right, 'current_month'] = month_name_to_number[month]"
   ]
  },
  {
   "cell_type": "code",
   "execution_count": 17,
   "id": "9a7de384-c936-41c9-b8f1-75172507d342",
   "metadata": {},
   "outputs": [
    {
     "data": {
      "text/html": [
       "<div>\n",
       "<style scoped>\n",
       "    .dataframe tbody tr th:only-of-type {\n",
       "        vertical-align: middle;\n",
       "    }\n",
       "\n",
       "    .dataframe tbody tr th {\n",
       "        vertical-align: top;\n",
       "    }\n",
       "\n",
       "    .dataframe thead th {\n",
       "        text-align: right;\n",
       "    }\n",
       "</style>\n",
       "<table border=\"1\" class=\"dataframe\">\n",
       "  <thead>\n",
       "    <tr style=\"text-align: right;\">\n",
       "      <th></th>\n",
       "      <th>client_id</th>\n",
       "      <th>sum</th>\n",
       "      <th>status</th>\n",
       "      <th>sale</th>\n",
       "      <th>new/current</th>\n",
       "      <th>document</th>\n",
       "      <th>receiving_date</th>\n",
       "      <th>current_year</th>\n",
       "      <th>current_month</th>\n",
       "    </tr>\n",
       "  </thead>\n",
       "  <tbody>\n",
       "    <tr>\n",
       "      <th>0</th>\n",
       "      <td>NaN</td>\n",
       "      <td>NaN</td>\n",
       "      <td>Май 2021</td>\n",
       "      <td>NaN</td>\n",
       "      <td>NaN</td>\n",
       "      <td>NaN</td>\n",
       "      <td>NaN</td>\n",
       "      <td>2021.0</td>\n",
       "      <td>5.0</td>\n",
       "    </tr>\n",
       "    <tr>\n",
       "      <th>1</th>\n",
       "      <td>6.0</td>\n",
       "      <td>11693.7</td>\n",
       "      <td>ВНУТРЕННИЙ</td>\n",
       "      <td>-</td>\n",
       "      <td>-</td>\n",
       "      <td>-</td>\n",
       "      <td>-</td>\n",
       "      <td>2021.0</td>\n",
       "      <td>5.0</td>\n",
       "    </tr>\n",
       "    <tr>\n",
       "      <th>2</th>\n",
       "      <td>14.0</td>\n",
       "      <td>5452.7</td>\n",
       "      <td>ОПЛАЧЕНО</td>\n",
       "      <td>Петрова</td>\n",
       "      <td>новая</td>\n",
       "      <td>оригинал</td>\n",
       "      <td>2021-07-26 00:00:00</td>\n",
       "      <td>2021.0</td>\n",
       "      <td>5.0</td>\n",
       "    </tr>\n",
       "    <tr>\n",
       "      <th>3</th>\n",
       "      <td>15.0</td>\n",
       "      <td>13991.7</td>\n",
       "      <td>ОПЛАЧЕНО</td>\n",
       "      <td>Иванов</td>\n",
       "      <td>текущая</td>\n",
       "      <td>оригинал</td>\n",
       "      <td>2021-06-08 00:00:00</td>\n",
       "      <td>2021.0</td>\n",
       "      <td>5.0</td>\n",
       "    </tr>\n",
       "    <tr>\n",
       "      <th>4</th>\n",
       "      <td>16.0</td>\n",
       "      <td>719.7</td>\n",
       "      <td>ОПЛАЧЕНО</td>\n",
       "      <td>Иванов</td>\n",
       "      <td>текущая</td>\n",
       "      <td>оригинал</td>\n",
       "      <td>2021-06-08 00:00:00</td>\n",
       "      <td>2021.0</td>\n",
       "      <td>5.0</td>\n",
       "    </tr>\n",
       "  </tbody>\n",
       "</table>\n",
       "</div>"
      ],
      "text/plain": [
       "   client_id      sum      status     sale new/current  document  \\\n",
       "0        NaN      NaN    Май 2021      NaN         NaN       NaN   \n",
       "1        6.0  11693.7  ВНУТРЕННИЙ        -           -         -   \n",
       "2       14.0   5452.7    ОПЛАЧЕНО  Петрова       новая  оригинал   \n",
       "3       15.0  13991.7    ОПЛАЧЕНО   Иванов     текущая  оригинал   \n",
       "4       16.0    719.7    ОПЛАЧЕНО   Иванов     текущая  оригинал   \n",
       "\n",
       "        receiving_date  current_year  current_month  \n",
       "0                  NaN        2021.0            5.0  \n",
       "1                    -        2021.0            5.0  \n",
       "2  2021-07-26 00:00:00        2021.0            5.0  \n",
       "3  2021-06-08 00:00:00        2021.0            5.0  \n",
       "4  2021-06-08 00:00:00        2021.0            5.0  "
      ]
     },
     "execution_count": 17,
     "metadata": {},
     "output_type": "execute_result"
    }
   ],
   "source": [
    "df.head()"
   ]
  },
  {
   "cell_type": "code",
   "execution_count": 18,
   "id": "f6684973-4fa4-4211-8be5-8ba5288e43c4",
   "metadata": {},
   "outputs": [],
   "source": [
    "df.drop(date_indexes[:-1], axis = 0, inplace = True)"
   ]
  },
  {
   "cell_type": "markdown",
   "id": "dd0bdbe1-102a-4865-9d1d-060734afbfae",
   "metadata": {},
   "source": [
    "Можно сделать мульти-индекс, если нужен будет более глубокий анализ\n",
    "\n",
    "df.set_index(\\['current_year', 'current_month'\\], drop = True, inplace = True, append = True)\n",
    "\n",
    "df.head()"
   ]
  },
  {
   "cell_type": "markdown",
   "id": "db9cc97b-e479-40dd-8eb6-3eb5ee3a3a28",
   "metadata": {},
   "source": [
    "Заменяем значения в первой строке на NaN"
   ]
  },
  {
   "cell_type": "code",
   "execution_count": 19,
   "id": "a69a09f1-47e1-4702-92bc-f4f8457dab14",
   "metadata": {},
   "outputs": [],
   "source": [
    "df.loc[df['status'] == 'ВНУТРЕННИЙ', ['sale', 'new/current', 'document', 'receiving_date']] = np.nan"
   ]
  },
  {
   "cell_type": "markdown",
   "id": "50e8e8a7-844b-496c-8e39-5185bac74d31",
   "metadata": {},
   "source": [
    "Проверка изменений"
   ]
  },
  {
   "cell_type": "code",
   "execution_count": 20,
   "id": "97fbcf9a-ab11-4756-b5e3-2c96e7f04b7b",
   "metadata": {},
   "outputs": [
    {
     "data": {
      "text/html": [
       "<div>\n",
       "<style scoped>\n",
       "    .dataframe tbody tr th:only-of-type {\n",
       "        vertical-align: middle;\n",
       "    }\n",
       "\n",
       "    .dataframe tbody tr th {\n",
       "        vertical-align: top;\n",
       "    }\n",
       "\n",
       "    .dataframe thead th {\n",
       "        text-align: right;\n",
       "    }\n",
       "</style>\n",
       "<table border=\"1\" class=\"dataframe\">\n",
       "  <thead>\n",
       "    <tr style=\"text-align: right;\">\n",
       "      <th></th>\n",
       "      <th>client_id</th>\n",
       "      <th>sum</th>\n",
       "      <th>status</th>\n",
       "      <th>sale</th>\n",
       "      <th>new/current</th>\n",
       "      <th>document</th>\n",
       "      <th>receiving_date</th>\n",
       "      <th>current_year</th>\n",
       "      <th>current_month</th>\n",
       "    </tr>\n",
       "  </thead>\n",
       "  <tbody>\n",
       "    <tr>\n",
       "      <th>1</th>\n",
       "      <td>6.0</td>\n",
       "      <td>11693.7</td>\n",
       "      <td>ВНУТРЕННИЙ</td>\n",
       "      <td>NaN</td>\n",
       "      <td>NaN</td>\n",
       "      <td>NaN</td>\n",
       "      <td>NaN</td>\n",
       "      <td>2021.0</td>\n",
       "      <td>5.0</td>\n",
       "    </tr>\n",
       "    <tr>\n",
       "      <th>2</th>\n",
       "      <td>14.0</td>\n",
       "      <td>5452.7</td>\n",
       "      <td>ОПЛАЧЕНО</td>\n",
       "      <td>Петрова</td>\n",
       "      <td>новая</td>\n",
       "      <td>оригинал</td>\n",
       "      <td>2021-07-26 00:00:00</td>\n",
       "      <td>2021.0</td>\n",
       "      <td>5.0</td>\n",
       "    </tr>\n",
       "    <tr>\n",
       "      <th>3</th>\n",
       "      <td>15.0</td>\n",
       "      <td>13991.7</td>\n",
       "      <td>ОПЛАЧЕНО</td>\n",
       "      <td>Иванов</td>\n",
       "      <td>текущая</td>\n",
       "      <td>оригинал</td>\n",
       "      <td>2021-06-08 00:00:00</td>\n",
       "      <td>2021.0</td>\n",
       "      <td>5.0</td>\n",
       "    </tr>\n",
       "    <tr>\n",
       "      <th>4</th>\n",
       "      <td>16.0</td>\n",
       "      <td>719.7</td>\n",
       "      <td>ОПЛАЧЕНО</td>\n",
       "      <td>Иванов</td>\n",
       "      <td>текущая</td>\n",
       "      <td>оригинал</td>\n",
       "      <td>2021-06-08 00:00:00</td>\n",
       "      <td>2021.0</td>\n",
       "      <td>5.0</td>\n",
       "    </tr>\n",
       "    <tr>\n",
       "      <th>5</th>\n",
       "      <td>18.0</td>\n",
       "      <td>4253.7</td>\n",
       "      <td>ОПЛАЧЕНО</td>\n",
       "      <td>Иванов</td>\n",
       "      <td>текущая</td>\n",
       "      <td>оригинал</td>\n",
       "      <td>2021-07-07 00:00:00</td>\n",
       "      <td>2021.0</td>\n",
       "      <td>5.0</td>\n",
       "    </tr>\n",
       "  </tbody>\n",
       "</table>\n",
       "</div>"
      ],
      "text/plain": [
       "   client_id      sum      status     sale new/current  document  \\\n",
       "1        6.0  11693.7  ВНУТРЕННИЙ      NaN         NaN       NaN   \n",
       "2       14.0   5452.7    ОПЛАЧЕНО  Петрова       новая  оригинал   \n",
       "3       15.0  13991.7    ОПЛАЧЕНО   Иванов     текущая  оригинал   \n",
       "4       16.0    719.7    ОПЛАЧЕНО   Иванов     текущая  оригинал   \n",
       "5       18.0   4253.7    ОПЛАЧЕНО   Иванов     текущая  оригинал   \n",
       "\n",
       "        receiving_date  current_year  current_month  \n",
       "1                  NaN        2021.0            5.0  \n",
       "2  2021-07-26 00:00:00        2021.0            5.0  \n",
       "3  2021-06-08 00:00:00        2021.0            5.0  \n",
       "4  2021-06-08 00:00:00        2021.0            5.0  \n",
       "5  2021-07-07 00:00:00        2021.0            5.0  "
      ]
     },
     "execution_count": 20,
     "metadata": {},
     "output_type": "execute_result"
    }
   ],
   "source": [
    "df.head()"
   ]
  },
  {
   "cell_type": "code",
   "execution_count": 21,
   "id": "b326b8f0-f8c9-4e4d-9a53-4fbe1875e127",
   "metadata": {},
   "outputs": [
    {
     "data": {
      "text/html": [
       "<div>\n",
       "<style scoped>\n",
       "    .dataframe tbody tr th:only-of-type {\n",
       "        vertical-align: middle;\n",
       "    }\n",
       "\n",
       "    .dataframe tbody tr th {\n",
       "        vertical-align: top;\n",
       "    }\n",
       "\n",
       "    .dataframe thead th {\n",
       "        text-align: right;\n",
       "    }\n",
       "</style>\n",
       "<table border=\"1\" class=\"dataframe\">\n",
       "  <thead>\n",
       "    <tr style=\"text-align: right;\">\n",
       "      <th></th>\n",
       "      <th>client_id</th>\n",
       "      <th>sum</th>\n",
       "      <th>status</th>\n",
       "      <th>sale</th>\n",
       "      <th>new/current</th>\n",
       "      <th>document</th>\n",
       "      <th>receiving_date</th>\n",
       "      <th>current_year</th>\n",
       "      <th>current_month</th>\n",
       "    </tr>\n",
       "  </thead>\n",
       "  <tbody>\n",
       "    <tr>\n",
       "      <th>126</th>\n",
       "      <td>284.0</td>\n",
       "      <td>8903.7</td>\n",
       "      <td>ПРОСРОЧЕНО</td>\n",
       "      <td>Филимонова</td>\n",
       "      <td>текущая</td>\n",
       "      <td>оригинал</td>\n",
       "      <td>2021-07-27 00:00:00</td>\n",
       "      <td>2021.0</td>\n",
       "      <td>5.0</td>\n",
       "    </tr>\n",
       "    <tr>\n",
       "      <th>127</th>\n",
       "      <td>286.0</td>\n",
       "      <td>3453.7</td>\n",
       "      <td>ОПЛАЧЕНО</td>\n",
       "      <td>Филимонова</td>\n",
       "      <td>текущая</td>\n",
       "      <td>оригинал</td>\n",
       "      <td>2021-05-31 00:00:00</td>\n",
       "      <td>2021.0</td>\n",
       "      <td>5.0</td>\n",
       "    </tr>\n",
       "    <tr>\n",
       "      <th>128</th>\n",
       "      <td>287.0</td>\n",
       "      <td>6368.7</td>\n",
       "      <td>ОПЛАЧЕНО</td>\n",
       "      <td>Филимонова</td>\n",
       "      <td>текущая</td>\n",
       "      <td>оригинал</td>\n",
       "      <td>2021-06-29 00:00:00</td>\n",
       "      <td>2021.0</td>\n",
       "      <td>5.0</td>\n",
       "    </tr>\n",
       "    <tr>\n",
       "      <th>130</th>\n",
       "      <td>316.0</td>\n",
       "      <td>35653.7</td>\n",
       "      <td>ОПЛАЧЕНО</td>\n",
       "      <td>Петрова</td>\n",
       "      <td>новая</td>\n",
       "      <td>оригинал</td>\n",
       "      <td>2021-08-09 00:00:00</td>\n",
       "      <td>2021.0</td>\n",
       "      <td>6.0</td>\n",
       "    </tr>\n",
       "    <tr>\n",
       "      <th>131</th>\n",
       "      <td>15.0</td>\n",
       "      <td>13518.7</td>\n",
       "      <td>ОПЛАЧЕНО</td>\n",
       "      <td>Иванов</td>\n",
       "      <td>текущая</td>\n",
       "      <td>оригинал</td>\n",
       "      <td>2021-07-09 00:00:00</td>\n",
       "      <td>2021.0</td>\n",
       "      <td>6.0</td>\n",
       "    </tr>\n",
       "  </tbody>\n",
       "</table>\n",
       "</div>"
      ],
      "text/plain": [
       "     client_id      sum      status        sale new/current  document  \\\n",
       "126      284.0   8903.7  ПРОСРОЧЕНО  Филимонова     текущая  оригинал   \n",
       "127      286.0   3453.7    ОПЛАЧЕНО  Филимонова     текущая  оригинал   \n",
       "128      287.0   6368.7    ОПЛАЧЕНО  Филимонова     текущая  оригинал   \n",
       "130      316.0  35653.7    ОПЛАЧЕНО     Петрова       новая  оригинал   \n",
       "131       15.0  13518.7    ОПЛАЧЕНО      Иванов     текущая  оригинал   \n",
       "\n",
       "          receiving_date  current_year  current_month  \n",
       "126  2021-07-27 00:00:00        2021.0            5.0  \n",
       "127  2021-05-31 00:00:00        2021.0            5.0  \n",
       "128  2021-06-29 00:00:00        2021.0            5.0  \n",
       "130  2021-08-09 00:00:00        2021.0            6.0  \n",
       "131  2021-07-09 00:00:00        2021.0            6.0  "
      ]
     },
     "execution_count": 21,
     "metadata": {},
     "output_type": "execute_result"
    }
   ],
   "source": [
    "df.iloc[125: 130, :]"
   ]
  },
  {
   "cell_type": "code",
   "execution_count": 22,
   "id": "33b9a896-097d-4959-8ba0-3147cc785ca8",
   "metadata": {},
   "outputs": [
    {
     "data": {
      "text/html": [
       "<div>\n",
       "<style scoped>\n",
       "    .dataframe tbody tr th:only-of-type {\n",
       "        vertical-align: middle;\n",
       "    }\n",
       "\n",
       "    .dataframe tbody tr th {\n",
       "        vertical-align: top;\n",
       "    }\n",
       "\n",
       "    .dataframe thead th {\n",
       "        text-align: right;\n",
       "    }\n",
       "</style>\n",
       "<table border=\"1\" class=\"dataframe\">\n",
       "  <thead>\n",
       "    <tr style=\"text-align: right;\">\n",
       "      <th></th>\n",
       "      <th>client_id</th>\n",
       "      <th>sum</th>\n",
       "      <th>status</th>\n",
       "      <th>sale</th>\n",
       "      <th>new/current</th>\n",
       "      <th>document</th>\n",
       "      <th>receiving_date</th>\n",
       "      <th>current_year</th>\n",
       "      <th>current_month</th>\n",
       "    </tr>\n",
       "  </thead>\n",
       "  <tbody>\n",
       "    <tr>\n",
       "      <th>257</th>\n",
       "      <td>287.0</td>\n",
       "      <td>6543.7</td>\n",
       "      <td>ОПЛАЧЕНО</td>\n",
       "      <td>Филимонова</td>\n",
       "      <td>текущая</td>\n",
       "      <td>оригинал</td>\n",
       "      <td>2021-08-12 00:00:00</td>\n",
       "      <td>2021.0</td>\n",
       "      <td>6.0</td>\n",
       "    </tr>\n",
       "    <tr>\n",
       "      <th>259</th>\n",
       "      <td>15.0</td>\n",
       "      <td>13838.7</td>\n",
       "      <td>ОПЛАЧЕНО</td>\n",
       "      <td>Иванов</td>\n",
       "      <td>текущая</td>\n",
       "      <td>оригинал</td>\n",
       "      <td>2021-08-09 00:00:00</td>\n",
       "      <td>2021.0</td>\n",
       "      <td>7.0</td>\n",
       "    </tr>\n",
       "    <tr>\n",
       "      <th>260</th>\n",
       "      <td>16.0</td>\n",
       "      <td>1586.5</td>\n",
       "      <td>ОПЛАЧЕНО</td>\n",
       "      <td>Иванов</td>\n",
       "      <td>текущая</td>\n",
       "      <td>оригинал</td>\n",
       "      <td>2021-08-09 00:00:00</td>\n",
       "      <td>2021.0</td>\n",
       "      <td>7.0</td>\n",
       "    </tr>\n",
       "  </tbody>\n",
       "</table>\n",
       "</div>"
      ],
      "text/plain": [
       "     client_id      sum    status        sale new/current  document  \\\n",
       "257      287.0   6543.7  ОПЛАЧЕНО  Филимонова     текущая  оригинал   \n",
       "259       15.0  13838.7  ОПЛАЧЕНО      Иванов     текущая  оригинал   \n",
       "260       16.0   1586.5  ОПЛАЧЕНО      Иванов     текущая  оригинал   \n",
       "\n",
       "          receiving_date  current_year  current_month  \n",
       "257  2021-08-12 00:00:00        2021.0            6.0  \n",
       "259  2021-08-09 00:00:00        2021.0            7.0  \n",
       "260  2021-08-09 00:00:00        2021.0            7.0  "
      ]
     },
     "execution_count": 22,
     "metadata": {},
     "output_type": "execute_result"
    }
   ],
   "source": [
    "df.iloc[255: 258, :]"
   ]
  },
  {
   "cell_type": "code",
   "execution_count": 23,
   "id": "6d30ce23-79e3-4ed3-a264-6e49c5b63da3",
   "metadata": {
    "scrolled": true
   },
   "outputs": [
    {
     "data": {
      "text/html": [
       "<div>\n",
       "<style scoped>\n",
       "    .dataframe tbody tr th:only-of-type {\n",
       "        vertical-align: middle;\n",
       "    }\n",
       "\n",
       "    .dataframe tbody tr th {\n",
       "        vertical-align: top;\n",
       "    }\n",
       "\n",
       "    .dataframe thead th {\n",
       "        text-align: right;\n",
       "    }\n",
       "</style>\n",
       "<table border=\"1\" class=\"dataframe\">\n",
       "  <thead>\n",
       "    <tr style=\"text-align: right;\">\n",
       "      <th></th>\n",
       "      <th>client_id</th>\n",
       "      <th>sum</th>\n",
       "      <th>status</th>\n",
       "      <th>sale</th>\n",
       "      <th>new/current</th>\n",
       "      <th>document</th>\n",
       "      <th>receiving_date</th>\n",
       "      <th>current_year</th>\n",
       "      <th>current_month</th>\n",
       "    </tr>\n",
       "  </thead>\n",
       "  <tbody>\n",
       "    <tr>\n",
       "      <th>725</th>\n",
       "      <td>285.0</td>\n",
       "      <td>4328.7</td>\n",
       "      <td>ОПЛАЧЕНО</td>\n",
       "      <td>Васильев</td>\n",
       "      <td>текущая</td>\n",
       "      <td>оригинал</td>\n",
       "      <td>2021-11-15 00:00:00</td>\n",
       "      <td>2021.0</td>\n",
       "      <td>10.0</td>\n",
       "    </tr>\n",
       "    <tr>\n",
       "      <th>726</th>\n",
       "      <td>360.0</td>\n",
       "      <td>3096.2</td>\n",
       "      <td>ОПЛАЧЕНО</td>\n",
       "      <td>Васильев</td>\n",
       "      <td>новая</td>\n",
       "      <td>НЕТ</td>\n",
       "      <td>NaN</td>\n",
       "      <td>2021.0</td>\n",
       "      <td>10.0</td>\n",
       "    </tr>\n",
       "    <tr>\n",
       "      <th>727</th>\n",
       "      <td>360.0</td>\n",
       "      <td>3096.2</td>\n",
       "      <td>ПРОСРОЧЕНО</td>\n",
       "      <td>Васильев</td>\n",
       "      <td>новая</td>\n",
       "      <td>НЕТ</td>\n",
       "      <td>NaN</td>\n",
       "      <td>2021.0</td>\n",
       "      <td>10.0</td>\n",
       "    </tr>\n",
       "    <tr>\n",
       "      <th>728</th>\n",
       "      <td>373.0</td>\n",
       "      <td>4403.7</td>\n",
       "      <td>ОПЛАЧЕНО</td>\n",
       "      <td>Михайлов</td>\n",
       "      <td>новая</td>\n",
       "      <td>оригинал</td>\n",
       "      <td>2021-11-08 00:00:00</td>\n",
       "      <td>2021.0</td>\n",
       "      <td>10.0</td>\n",
       "    </tr>\n",
       "    <tr>\n",
       "      <th>729</th>\n",
       "      <td>286.0</td>\n",
       "      <td>3978.7</td>\n",
       "      <td>ОПЛАЧЕНО</td>\n",
       "      <td>Филимонова</td>\n",
       "      <td>текущая</td>\n",
       "      <td>оригинал</td>\n",
       "      <td>2021-11-15 00:00:00</td>\n",
       "      <td>2021.0</td>\n",
       "      <td>10.0</td>\n",
       "    </tr>\n",
       "  </tbody>\n",
       "</table>\n",
       "</div>"
      ],
      "text/plain": [
       "     client_id     sum      status        sale new/current  document  \\\n",
       "725      285.0  4328.7    ОПЛАЧЕНО    Васильев     текущая  оригинал   \n",
       "726      360.0  3096.2    ОПЛАЧЕНО    Васильев       новая       НЕТ   \n",
       "727      360.0  3096.2  ПРОСРОЧЕНО    Васильев       новая       НЕТ   \n",
       "728      373.0  4403.7    ОПЛАЧЕНО    Михайлов       новая  оригинал   \n",
       "729      286.0  3978.7    ОПЛАЧЕНО  Филимонова     текущая  оригинал   \n",
       "\n",
       "          receiving_date  current_year  current_month  \n",
       "725  2021-11-15 00:00:00        2021.0           10.0  \n",
       "726                  NaN        2021.0           10.0  \n",
       "727                  NaN        2021.0           10.0  \n",
       "728  2021-11-08 00:00:00        2021.0           10.0  \n",
       "729  2021-11-15 00:00:00        2021.0           10.0  "
      ]
     },
     "execution_count": 23,
     "metadata": {},
     "output_type": "execute_result"
    }
   ],
   "source": [
    "df.tail()"
   ]
  },
  {
   "cell_type": "code",
   "execution_count": 24,
   "id": "fccbf6a9-7de4-421b-8071-00c958f21861",
   "metadata": {},
   "outputs": [
    {
     "data": {
      "text/plain": [
       "client_id           0\n",
       "sum                 0\n",
       "status              0\n",
       "sale                1\n",
       "new/current         1\n",
       "document           16\n",
       "receiving_date    118\n",
       "current_year        0\n",
       "current_month       0\n",
       "dtype: int64"
      ]
     },
     "execution_count": 24,
     "metadata": {},
     "output_type": "execute_result"
    }
   ],
   "source": [
    "df.isna().sum()"
   ]
  },
  {
   "cell_type": "markdown",
   "id": "1b8fdf9c-dbd7-458b-9275-325f73c915e8",
   "metadata": {},
   "source": [
    "Теперь можно переконвертировать client_id в int"
   ]
  },
  {
   "cell_type": "code",
   "execution_count": 25,
   "id": "a9693a64-2efe-43a5-84cc-8bbe0c30a123",
   "metadata": {},
   "outputs": [],
   "source": [
    "df = df.astype({'client_id': 'int16', 'current_year': 'int16', 'current_month': 'int16'})"
   ]
  },
  {
   "cell_type": "code",
   "execution_count": 26,
   "id": "ba3dae50-b7dd-4f7a-bb88-1c239d521848",
   "metadata": {},
   "outputs": [],
   "source": [
    "df['receiving_date'] = pd.to_datetime(df['receiving_date'])"
   ]
  },
  {
   "cell_type": "markdown",
   "id": "8bb03417-ec4b-4a1e-b089-e30e63888fc8",
   "metadata": {},
   "source": [
    "## Вопросы"
   ]
  },
  {
   "cell_type": "markdown",
   "id": "3ed75264-c87e-4d1c-85df-4a76928f0494",
   "metadata": {},
   "source": [
    "### 1) Вычислите общую выручку за июль 2021 по тем сделкам, приход денежных средств которых не просрочен."
   ]
  },
  {
   "cell_type": "code",
   "execution_count": 27,
   "id": "1aa28b49-b6bf-4ae2-8f3d-f49381e66a1e",
   "metadata": {},
   "outputs": [
    {
     "data": {
      "text/plain": [
       "array(['ВНУТРЕННИЙ', 'ОПЛАЧЕНО', 'ПРОСРОЧЕНО', 'В РАБОТЕ',\n",
       "       'НА ПОДПИСАНИИ'], dtype=object)"
      ]
     },
     "execution_count": 27,
     "metadata": {},
     "output_type": "execute_result"
    }
   ],
   "source": [
    "df.status.unique()"
   ]
  },
  {
   "cell_type": "code",
   "execution_count": 28,
   "id": "a24d6dd1-e41a-46cb-9a58-8c003c7d5447",
   "metadata": {},
   "outputs": [
    {
     "data": {
      "text/plain": [
       "859896.4699999997"
      ]
     },
     "execution_count": 28,
     "metadata": {},
     "output_type": "execute_result"
    }
   ],
   "source": [
    "df[(df['status'] != 'ПРОСРОЧЕНО') & (df['current_year'] == 2021) & (df['current_month'] == month_name_to_number['Июль'])]['sum'].sum()"
   ]
  },
  {
   "cell_type": "markdown",
   "id": "88215140-320e-4ec2-baff-9a934c03303f",
   "metadata": {},
   "source": [
    "### 2) Как изменялась выручка компании за рассматриваемый период? Проиллюстрируйте графиком."
   ]
  },
  {
   "cell_type": "code",
   "execution_count": 29,
   "id": "0574022f-dc32-4db7-8ba6-8d712a3195b7",
   "metadata": {},
   "outputs": [
    {
     "data": {
      "text/plain": [
       "<Axes: >"
      ]
     },
     "execution_count": 29,
     "metadata": {},
     "output_type": "execute_result"
    },
    {
     "data": {
      "image/png": "[encoded data removed]",
      "text/plain": [
       "<Figure size 640x480 with 1 Axes>"
      ]
     },
     "metadata": {},
     "output_type": "display_data"
    }
   ],
   "source": [
    "# Для более красивых графиков я бы использовал библиотеки Plotly или Seaborn\n",
    "df[(df['status'] != 'ПРОСРОЧЕНО') & (df['current_year'] == 2021) & (df['current_month'] == month_name_to_number['Июль'])]['sum'].cumsum().plot()"
   ]
  },
  {
   "cell_type": "markdown",
   "id": "5a802195-95bc-419f-ab69-95281f18e317",
   "metadata": {},
   "source": [
    "### 3) Кто из менеджеров привлек для компании больше всего денежных средств в сентябре 2021?"
   ]
  },
  {
   "cell_type": "markdown",
   "id": "c7693677-7f5a-4c4b-b9d7-9009ed13cb08",
   "metadata": {},
   "source": [
    "Стоит ли учитывать транзакции \"на подписании\" и \"в работе\"? В вопросе ничего об этом не сказано, так что считаем вне зависимости от статуса."
   ]
  },
  {
   "cell_type": "code",
   "execution_count": 30,
   "id": "f988639c-9822-4acb-9654-ff66d5163d1a",
   "metadata": {},
   "outputs": [
    {
     "data": {
      "text/plain": [
       "sale\n",
       "Смирнов       221525.70\n",
       "Петрова       149344.46\n",
       "Андреев       133652.50\n",
       "Иванов         94770.60\n",
       "Кузнецова      72228.40\n",
       "Филимонова     59514.47\n",
       "Васильев       49895.45\n",
       "Соколов        35183.50\n",
       "Михайлов        4268.70\n",
       "Name: sum, dtype: float64"
      ]
     },
     "execution_count": 30,
     "metadata": {},
     "output_type": "execute_result"
    }
   ],
   "source": [
    "df[(df['current_year'] == 2021) & (df['current_month'] == month_name_to_number['Сентябрь'])].groupby(['sale'])['sum'].sum().sort_values(ascending = False)"
   ]
  },
  {
   "cell_type": "markdown",
   "id": "c55b255b-5fe4-4f68-b202-e3bee6ef69e3",
   "metadata": {},
   "source": [
    "### 4) Какой тип сделок (новая/текущая) был преобладающим в октябре 2021?"
   ]
  },
  {
   "cell_type": "code",
   "execution_count": 31,
   "id": "4ec69337-a186-4cf2-aa7a-5b9d4758dd0e",
   "metadata": {},
   "outputs": [
    {
     "data": {
      "text/plain": [
       "new/current\n",
       "текущая    99\n",
       "новая      36\n",
       "Name: count, dtype: int64"
      ]
     },
     "execution_count": 31,
     "metadata": {},
     "output_type": "execute_result"
    }
   ],
   "source": [
    "df[(df['current_year'] == 2021) & (df['current_month'] == month_name_to_number['Октябрь'])]['new/current'].value_counts()"
   ]
  },
  {
   "cell_type": "code",
   "execution_count": 32,
   "id": "6b9cc825-d7cb-4ad5-99d5-90fd5957db9c",
   "metadata": {},
   "outputs": [
    {
     "data": {
      "text/plain": [
       "<Axes: xlabel='new/current'>"
      ]
     },
     "execution_count": 32,
     "metadata": {},
     "output_type": "execute_result"
    },
    {
     "data": {
      "image/png": "[encoded data removed]",
      "text/plain": [
       "<Figure size 640x480 with 1 Axes>"
      ]
     },
     "metadata": {},
     "output_type": "display_data"
    }
   ],
   "source": [
    "df[(df['current_year'] == 2021) & (df['current_month'] == month_name_to_number['Октябрь'])]['new/current'].value_counts().plot(kind = 'bar')"
   ]
  },
  {
   "cell_type": "markdown",
   "id": "3aee511e-55d9-404a-8f08-a2bc53f00bbe",
   "metadata": {},
   "source": [
    "### 5) Сколько оригиналов договора по майским сделкам было получено в июне 2021?"
   ]
  },
  {
   "cell_type": "code",
   "execution_count": 33,
   "id": "6736e252-d39e-49c3-93ad-ec5318a01c4f",
   "metadata": {},
   "outputs": [
    {
     "data": {
      "text/plain": [
       "document\n",
       "оригинал    126\n",
       "НЕТ           1\n",
       "Name: count, dtype: int64"
      ]
     },
     "execution_count": 33,
     "metadata": {},
     "output_type": "execute_result"
    }
   ],
   "source": [
    "df[(df['current_year'] == 2021) & (df['current_month'] == month_name_to_number['Июнь'])]['document'].value_counts()"
   ]
  },
  {
   "cell_type": "markdown",
   "id": "f3991324-1a46-459e-a8cf-3d85c21106d9",
   "metadata": {},
   "source": [
    "## Задание:"
   ]
  },
  {
   "cell_type": "markdown",
   "id": "52340e3a-a654-4bbd-880f-9c0d12e23b6f",
   "metadata": {},
   "source": [
    "За каждую заключенную сделку менеджер получает бонус, который рассчитывается\n",
    "следующим образом.\n",
    "\n",
    "1) За новые сделки менеджер получает 7 % от суммы, при условии, что статус\n",
    "оплаты «ОПЛАЧЕНО», а также имеется оригинал подписанного договора с\n",
    "клиентом (в рассматриваемом месяце).\n",
    "2) За текущие сделки менеджер получает 5 % от суммы, если она больше 10 тыс.,\n",
    "и 3 % от суммы, если меньше. При этом статус оплаты может быть любым,\n",
    "кроме «ПРОСРОЧЕНО», а также необходимо наличие оригинала подписанного\n",
    "договора с клиентом (в рассматриваемом месяце).\n",
    "\n",
    "Бонусы по сделкам, оригиналы для которых приходят позже рассматриваемого\n",
    "месяца, считаются остатком на следующий период, который выплачивается по мере\n",
    "прихода оригиналов. \n",
    "\n",
    "Вычислите остаток каждого из менеджеров на 01.07.2021."
   ]
  },
  {
   "cell_type": "markdown",
   "id": "7a014a04-1391-4782-b028-eac91484c882",
   "metadata": {},
   "source": [
    "новая и оплачено и оригинал и дельта от даты договора < 1 = 7%\n",
    "\n",
    "текущая и >10тыс и !просрочено и дельта от июля < 0 = 5%\n",
    "\n",
    "текущая и <10тыс и !просрочено и дельта от июля < 0 = 3%"
   ]
  },
  {
   "cell_type": "markdown",
   "id": "ebdaf7b8-9ec9-44db-81a6-6f95c578b9d8",
   "metadata": {},
   "source": [
    "*было бы здоро иметь пример для каждого из условий*"
   ]
  },
  {
   "cell_type": "code",
   "execution_count": 34,
   "id": "49d34045-e546-44e8-a171-b2a3035f2ee6",
   "metadata": {},
   "outputs": [
    {
     "data": {
      "text/plain": [
       "client_id                  int16\n",
       "sum                      float64\n",
       "status                    object\n",
       "sale                      object\n",
       "new/current               object\n",
       "document                  object\n",
       "receiving_date    datetime64[ns]\n",
       "current_year               int16\n",
       "current_month              int16\n",
       "dtype: object"
      ]
     },
     "execution_count": 34,
     "metadata": {},
     "output_type": "execute_result"
    }
   ],
   "source": [
    "df.dtypes"
   ]
  },
  {
   "cell_type": "code",
   "execution_count": 35,
   "id": "be28ad6b-4764-45a3-a784-7f36551c807b",
   "metadata": {},
   "outputs": [],
   "source": [
    "def month_year_converter(row):\n",
    "    return pd.Timestamp(month = row['current_month'], year = row['current_year'], day = row['receiving_date'].day)\n",
    "df['current_date_helper'] = df[~df['receiving_date'].isnull()].apply(lambda row: month_year_converter(row), axis=1)"
   ]
  },
  {
   "cell_type": "code",
   "execution_count": 36,
   "id": "0009a9a9-e642-41e7-a598-2727dc9e95af",
   "metadata": {},
   "outputs": [],
   "source": [
    "# В том же месяце\n",
    "def is_in_this_month(row):\n",
    "    return not bool(row['receiving_date'].month - row['current_date_helper'].month)\n",
    "df['is_in_this_month'] = df[~df['current_date_helper'].isnull()].apply(lambda row: is_in_this_month(row), axis = 1)"
   ]
  },
  {
   "cell_type": "code",
   "execution_count": 37,
   "id": "0089bab8-01c8-4487-824f-83fd87cce8f3",
   "metadata": {},
   "outputs": [],
   "source": [
    "# Дельта между датой получения договора и 1ым Июля\n",
    "def receive_july_delta(row):\n",
    "    return pd.Timestamp(month = row['receiving_date'].month, year = row['receiving_date'].year, day = row['receiving_date'].day) - pd.Timestamp(month = 7, year = 2021, day = 1)\n",
    "df['receive_july_delta'] = df[~df['receiving_date'].isnull()].apply(lambda row: receive_july_delta(row), axis = 1)"
   ]
  },
  {
   "cell_type": "code",
   "execution_count": 38,
   "id": "25db3702-de1d-4aa1-97eb-1d55b718010d",
   "metadata": {},
   "outputs": [],
   "source": [
    "#from IPython.display import display, HTML\n",
    "#display(HTML(df.to_html()))"
   ]
  },
  {
   "cell_type": "code",
   "execution_count": 39,
   "id": "b99ae3a2-31f9-4b47-b7d8-127157ebf859",
   "metadata": {},
   "outputs": [
    {
     "data": {
      "text/html": [
       "<div>\n",
       "<style scoped>\n",
       "    .dataframe tbody tr th:only-of-type {\n",
       "        vertical-align: middle;\n",
       "    }\n",
       "\n",
       "    .dataframe tbody tr th {\n",
       "        vertical-align: top;\n",
       "    }\n",
       "\n",
       "    .dataframe thead th {\n",
       "        text-align: right;\n",
       "    }\n",
       "</style>\n",
       "<table border=\"1\" class=\"dataframe\">\n",
       "  <thead>\n",
       "    <tr style=\"text-align: right;\">\n",
       "      <th></th>\n",
       "      <th>client_id</th>\n",
       "      <th>sum</th>\n",
       "      <th>status</th>\n",
       "      <th>sale</th>\n",
       "      <th>new/current</th>\n",
       "      <th>document</th>\n",
       "      <th>receiving_date</th>\n",
       "      <th>current_year</th>\n",
       "      <th>current_month</th>\n",
       "      <th>current_date_helper</th>\n",
       "      <th>is_in_this_month</th>\n",
       "      <th>receive_july_delta</th>\n",
       "    </tr>\n",
       "  </thead>\n",
       "  <tbody>\n",
       "    <tr>\n",
       "      <th>1</th>\n",
       "      <td>6</td>\n",
       "      <td>11693.7</td>\n",
       "      <td>ВНУТРЕННИЙ</td>\n",
       "      <td>NaN</td>\n",
       "      <td>NaN</td>\n",
       "      <td>NaN</td>\n",
       "      <td>NaT</td>\n",
       "      <td>2021</td>\n",
       "      <td>5</td>\n",
       "      <td>NaT</td>\n",
       "      <td>NaN</td>\n",
       "      <td>NaT</td>\n",
       "    </tr>\n",
       "    <tr>\n",
       "      <th>2</th>\n",
       "      <td>14</td>\n",
       "      <td>5452.7</td>\n",
       "      <td>ОПЛАЧЕНО</td>\n",
       "      <td>Петрова</td>\n",
       "      <td>новая</td>\n",
       "      <td>оригинал</td>\n",
       "      <td>2021-07-26</td>\n",
       "      <td>2021</td>\n",
       "      <td>5</td>\n",
       "      <td>2021-05-26</td>\n",
       "      <td>False</td>\n",
       "      <td>25 days</td>\n",
       "    </tr>\n",
       "    <tr>\n",
       "      <th>3</th>\n",
       "      <td>15</td>\n",
       "      <td>13991.7</td>\n",
       "      <td>ОПЛАЧЕНО</td>\n",
       "      <td>Иванов</td>\n",
       "      <td>текущая</td>\n",
       "      <td>оригинал</td>\n",
       "      <td>2021-06-08</td>\n",
       "      <td>2021</td>\n",
       "      <td>5</td>\n",
       "      <td>2021-05-08</td>\n",
       "      <td>False</td>\n",
       "      <td>-23 days</td>\n",
       "    </tr>\n",
       "    <tr>\n",
       "      <th>4</th>\n",
       "      <td>16</td>\n",
       "      <td>719.7</td>\n",
       "      <td>ОПЛАЧЕНО</td>\n",
       "      <td>Иванов</td>\n",
       "      <td>текущая</td>\n",
       "      <td>оригинал</td>\n",
       "      <td>2021-06-08</td>\n",
       "      <td>2021</td>\n",
       "      <td>5</td>\n",
       "      <td>2021-05-08</td>\n",
       "      <td>False</td>\n",
       "      <td>-23 days</td>\n",
       "    </tr>\n",
       "    <tr>\n",
       "      <th>5</th>\n",
       "      <td>18</td>\n",
       "      <td>4253.7</td>\n",
       "      <td>ОПЛАЧЕНО</td>\n",
       "      <td>Иванов</td>\n",
       "      <td>текущая</td>\n",
       "      <td>оригинал</td>\n",
       "      <td>2021-07-07</td>\n",
       "      <td>2021</td>\n",
       "      <td>5</td>\n",
       "      <td>2021-05-07</td>\n",
       "      <td>False</td>\n",
       "      <td>6 days</td>\n",
       "    </tr>\n",
       "    <tr>\n",
       "      <th>...</th>\n",
       "      <td>...</td>\n",
       "      <td>...</td>\n",
       "      <td>...</td>\n",
       "      <td>...</td>\n",
       "      <td>...</td>\n",
       "      <td>...</td>\n",
       "      <td>...</td>\n",
       "      <td>...</td>\n",
       "      <td>...</td>\n",
       "      <td>...</td>\n",
       "      <td>...</td>\n",
       "      <td>...</td>\n",
       "    </tr>\n",
       "    <tr>\n",
       "      <th>725</th>\n",
       "      <td>285</td>\n",
       "      <td>4328.7</td>\n",
       "      <td>ОПЛАЧЕНО</td>\n",
       "      <td>Васильев</td>\n",
       "      <td>текущая</td>\n",
       "      <td>оригинал</td>\n",
       "      <td>2021-11-15</td>\n",
       "      <td>2021</td>\n",
       "      <td>10</td>\n",
       "      <td>2021-10-15</td>\n",
       "      <td>False</td>\n",
       "      <td>137 days</td>\n",
       "    </tr>\n",
       "    <tr>\n",
       "      <th>726</th>\n",
       "      <td>360</td>\n",
       "      <td>3096.2</td>\n",
       "      <td>ОПЛАЧЕНО</td>\n",
       "      <td>Васильев</td>\n",
       "      <td>новая</td>\n",
       "      <td>НЕТ</td>\n",
       "      <td>NaT</td>\n",
       "      <td>2021</td>\n",
       "      <td>10</td>\n",
       "      <td>NaT</td>\n",
       "      <td>NaN</td>\n",
       "      <td>NaT</td>\n",
       "    </tr>\n",
       "    <tr>\n",
       "      <th>727</th>\n",
       "      <td>360</td>\n",
       "      <td>3096.2</td>\n",
       "      <td>ПРОСРОЧЕНО</td>\n",
       "      <td>Васильев</td>\n",
       "      <td>новая</td>\n",
       "      <td>НЕТ</td>\n",
       "      <td>NaT</td>\n",
       "      <td>2021</td>\n",
       "      <td>10</td>\n",
       "      <td>NaT</td>\n",
       "      <td>NaN</td>\n",
       "      <td>NaT</td>\n",
       "    </tr>\n",
       "    <tr>\n",
       "      <th>728</th>\n",
       "      <td>373</td>\n",
       "      <td>4403.7</td>\n",
       "      <td>ОПЛАЧЕНО</td>\n",
       "      <td>Михайлов</td>\n",
       "      <td>новая</td>\n",
       "      <td>оригинал</td>\n",
       "      <td>2021-11-08</td>\n",
       "      <td>2021</td>\n",
       "      <td>10</td>\n",
       "      <td>2021-10-08</td>\n",
       "      <td>False</td>\n",
       "      <td>130 days</td>\n",
       "    </tr>\n",
       "    <tr>\n",
       "      <th>729</th>\n",
       "      <td>286</td>\n",
       "      <td>3978.7</td>\n",
       "      <td>ОПЛАЧЕНО</td>\n",
       "      <td>Филимонова</td>\n",
       "      <td>текущая</td>\n",
       "      <td>оригинал</td>\n",
       "      <td>2021-11-15</td>\n",
       "      <td>2021</td>\n",
       "      <td>10</td>\n",
       "      <td>2021-10-15</td>\n",
       "      <td>False</td>\n",
       "      <td>137 days</td>\n",
       "    </tr>\n",
       "  </tbody>\n",
       "</table>\n",
       "<p>724 rows × 12 columns</p>\n",
       "</div>"
      ],
      "text/plain": [
       "     client_id      sum      status        sale new/current  document  \\\n",
       "1            6  11693.7  ВНУТРЕННИЙ         NaN         NaN       NaN   \n",
       "2           14   5452.7    ОПЛАЧЕНО     Петрова       новая  оригинал   \n",
       "3           15  13991.7    ОПЛАЧЕНО      Иванов     текущая  оригинал   \n",
       "4           16    719.7    ОПЛАЧЕНО      Иванов     текущая  оригинал   \n",
       "5           18   4253.7    ОПЛАЧЕНО      Иванов     текущая  оригинал   \n",
       "..         ...      ...         ...         ...         ...       ...   \n",
       "725        285   4328.7    ОПЛАЧЕНО    Васильев     текущая  оригинал   \n",
       "726        360   3096.2    ОПЛАЧЕНО    Васильев       новая       НЕТ   \n",
       "727        360   3096.2  ПРОСРОЧЕНО    Васильев       новая       НЕТ   \n",
       "728        373   4403.7    ОПЛАЧЕНО    Михайлов       новая  оригинал   \n",
       "729        286   3978.7    ОПЛАЧЕНО  Филимонова     текущая  оригинал   \n",
       "\n",
       "    receiving_date  current_year  current_month current_date_helper  \\\n",
       "1              NaT          2021              5                 NaT   \n",
       "2       2021-07-26          2021              5          2021-05-26   \n",
       "3       2021-06-08          2021              5          2021-05-08   \n",
       "4       2021-06-08          2021              5          2021-05-08   \n",
       "5       2021-07-07          2021              5          2021-05-07   \n",
       "..             ...           ...            ...                 ...   \n",
       "725     2021-11-15          2021             10          2021-10-15   \n",
       "726            NaT          2021             10                 NaT   \n",
       "727            NaT          2021             10                 NaT   \n",
       "728     2021-11-08          2021             10          2021-10-08   \n",
       "729     2021-11-15          2021             10          2021-10-15   \n",
       "\n",
       "    is_in_this_month receive_july_delta  \n",
       "1                NaN                NaT  \n",
       "2              False            25 days  \n",
       "3              False           -23 days  \n",
       "4              False           -23 days  \n",
       "5              False             6 days  \n",
       "..               ...                ...  \n",
       "725            False           137 days  \n",
       "726              NaN                NaT  \n",
       "727              NaN                NaT  \n",
       "728            False           130 days  \n",
       "729            False           137 days  \n",
       "\n",
       "[724 rows x 12 columns]"
      ]
     },
     "execution_count": 39,
     "metadata": {},
     "output_type": "execute_result"
    }
   ],
   "source": [
    "df"
   ]
  },
  {
   "cell_type": "markdown",
   "id": "8b5db17c-43fb-4be1-a608-b90bf55a982d",
   "metadata": {},
   "source": [
    "По первому условию значений нет"
   ]
  },
  {
   "cell_type": "code",
   "execution_count": 40,
   "id": "ca73db79-75ff-446a-948b-097bb29352d8",
   "metadata": {},
   "outputs": [
    {
     "data": {
      "text/html": [
       "<div>\n",
       "<style scoped>\n",
       "    .dataframe tbody tr th:only-of-type {\n",
       "        vertical-align: middle;\n",
       "    }\n",
       "\n",
       "    .dataframe tbody tr th {\n",
       "        vertical-align: top;\n",
       "    }\n",
       "\n",
       "    .dataframe thead th {\n",
       "        text-align: right;\n",
       "    }\n",
       "</style>\n",
       "<table border=\"1\" class=\"dataframe\">\n",
       "  <thead>\n",
       "    <tr style=\"text-align: right;\">\n",
       "      <th></th>\n",
       "      <th>client_id</th>\n",
       "      <th>sum</th>\n",
       "      <th>status</th>\n",
       "      <th>sale</th>\n",
       "      <th>new/current</th>\n",
       "      <th>document</th>\n",
       "      <th>receiving_date</th>\n",
       "      <th>current_year</th>\n",
       "      <th>current_month</th>\n",
       "      <th>current_date_helper</th>\n",
       "      <th>is_in_this_month</th>\n",
       "      <th>receive_july_delta</th>\n",
       "    </tr>\n",
       "  </thead>\n",
       "  <tbody>\n",
       "  </tbody>\n",
       "</table>\n",
       "</div>"
      ],
      "text/plain": [
       "Empty DataFrame\n",
       "Columns: [client_id, sum, status, sale, new/current, document, receiving_date, current_year, current_month, current_date_helper, is_in_this_month, receive_july_delta]\n",
       "Index: []"
      ]
     },
     "execution_count": 40,
     "metadata": {},
     "output_type": "execute_result"
    }
   ],
   "source": [
    "mask = (df['new/current'] == 'новая') & (df['status'] == 'ОПЛАЧЕНО') & (df['is_in_this_month'] == True) & (df['current_month'] < 7)\n",
    "df[mask]"
   ]
  },
  {
   "cell_type": "markdown",
   "id": "be962066-e613-46b6-a510-362ad65adcb2",
   "metadata": {},
   "source": [
    "Все записи до 1 Июля, где договоры были получены уже после этой даты"
   ]
  },
  {
   "cell_type": "code",
   "execution_count": 41,
   "id": "e25481ec-0dea-4b7d-829a-cb671dd1ff58",
   "metadata": {},
   "outputs": [
    {
     "data": {
      "text/html": [
       "<div>\n",
       "<style scoped>\n",
       "    .dataframe tbody tr th:only-of-type {\n",
       "        vertical-align: middle;\n",
       "    }\n",
       "\n",
       "    .dataframe tbody tr th {\n",
       "        vertical-align: top;\n",
       "    }\n",
       "\n",
       "    .dataframe thead th {\n",
       "        text-align: right;\n",
       "    }\n",
       "</style>\n",
       "<table border=\"1\" class=\"dataframe\">\n",
       "  <thead>\n",
       "    <tr style=\"text-align: right;\">\n",
       "      <th></th>\n",
       "      <th>client_id</th>\n",
       "      <th>sum</th>\n",
       "      <th>status</th>\n",
       "      <th>sale</th>\n",
       "      <th>new/current</th>\n",
       "      <th>document</th>\n",
       "      <th>receiving_date</th>\n",
       "      <th>current_year</th>\n",
       "      <th>current_month</th>\n",
       "      <th>current_date_helper</th>\n",
       "      <th>is_in_this_month</th>\n",
       "      <th>receive_july_delta</th>\n",
       "    </tr>\n",
       "  </thead>\n",
       "  <tbody>\n",
       "    <tr>\n",
       "      <th>5</th>\n",
       "      <td>18</td>\n",
       "      <td>4253.70</td>\n",
       "      <td>ОПЛАЧЕНО</td>\n",
       "      <td>Иванов</td>\n",
       "      <td>текущая</td>\n",
       "      <td>оригинал</td>\n",
       "      <td>2021-07-07</td>\n",
       "      <td>2021</td>\n",
       "      <td>5</td>\n",
       "      <td>2021-05-07</td>\n",
       "      <td>False</td>\n",
       "      <td>6 days</td>\n",
       "    </tr>\n",
       "    <tr>\n",
       "      <th>6</th>\n",
       "      <td>20</td>\n",
       "      <td>5796.70</td>\n",
       "      <td>ОПЛАЧЕНО</td>\n",
       "      <td>Кузнецова</td>\n",
       "      <td>текущая</td>\n",
       "      <td>оригинал</td>\n",
       "      <td>2021-07-15</td>\n",
       "      <td>2021</td>\n",
       "      <td>5</td>\n",
       "      <td>2021-05-15</td>\n",
       "      <td>False</td>\n",
       "      <td>14 days</td>\n",
       "    </tr>\n",
       "    <tr>\n",
       "      <th>7</th>\n",
       "      <td>21</td>\n",
       "      <td>3613.70</td>\n",
       "      <td>ОПЛАЧЕНО</td>\n",
       "      <td>Кузнецова</td>\n",
       "      <td>текущая</td>\n",
       "      <td>оригинал</td>\n",
       "      <td>2021-10-13</td>\n",
       "      <td>2021</td>\n",
       "      <td>5</td>\n",
       "      <td>2021-05-13</td>\n",
       "      <td>False</td>\n",
       "      <td>104 days</td>\n",
       "    </tr>\n",
       "    <tr>\n",
       "      <th>12</th>\n",
       "      <td>32</td>\n",
       "      <td>7353.90</td>\n",
       "      <td>ОПЛАЧЕНО</td>\n",
       "      <td>Филимонова</td>\n",
       "      <td>текущая</td>\n",
       "      <td>оригинал</td>\n",
       "      <td>2021-07-09</td>\n",
       "      <td>2021</td>\n",
       "      <td>5</td>\n",
       "      <td>2021-05-09</td>\n",
       "      <td>False</td>\n",
       "      <td>8 days</td>\n",
       "    </tr>\n",
       "    <tr>\n",
       "      <th>13</th>\n",
       "      <td>34</td>\n",
       "      <td>3892.52</td>\n",
       "      <td>ОПЛАЧЕНО</td>\n",
       "      <td>Филимонова</td>\n",
       "      <td>текущая</td>\n",
       "      <td>оригинал</td>\n",
       "      <td>2021-07-09</td>\n",
       "      <td>2021</td>\n",
       "      <td>5</td>\n",
       "      <td>2021-05-09</td>\n",
       "      <td>False</td>\n",
       "      <td>8 days</td>\n",
       "    </tr>\n",
       "    <tr>\n",
       "      <th>...</th>\n",
       "      <td>...</td>\n",
       "      <td>...</td>\n",
       "      <td>...</td>\n",
       "      <td>...</td>\n",
       "      <td>...</td>\n",
       "      <td>...</td>\n",
       "      <td>...</td>\n",
       "      <td>...</td>\n",
       "      <td>...</td>\n",
       "      <td>...</td>\n",
       "      <td>...</td>\n",
       "      <td>...</td>\n",
       "    </tr>\n",
       "    <tr>\n",
       "      <th>251</th>\n",
       "      <td>273</td>\n",
       "      <td>10133.70</td>\n",
       "      <td>ОПЛАЧЕНО</td>\n",
       "      <td>Петрова</td>\n",
       "      <td>текущая</td>\n",
       "      <td>оригинал</td>\n",
       "      <td>2021-07-06</td>\n",
       "      <td>2021</td>\n",
       "      <td>6</td>\n",
       "      <td>2021-06-06</td>\n",
       "      <td>False</td>\n",
       "      <td>5 days</td>\n",
       "    </tr>\n",
       "    <tr>\n",
       "      <th>252</th>\n",
       "      <td>277</td>\n",
       "      <td>4798.70</td>\n",
       "      <td>ОПЛАЧЕНО</td>\n",
       "      <td>Филимонова</td>\n",
       "      <td>текущая</td>\n",
       "      <td>оригинал</td>\n",
       "      <td>2021-07-08</td>\n",
       "      <td>2021</td>\n",
       "      <td>6</td>\n",
       "      <td>2021-06-08</td>\n",
       "      <td>False</td>\n",
       "      <td>7 days</td>\n",
       "    </tr>\n",
       "    <tr>\n",
       "      <th>253</th>\n",
       "      <td>281</td>\n",
       "      <td>5733.70</td>\n",
       "      <td>ОПЛАЧЕНО</td>\n",
       "      <td>Селиванов</td>\n",
       "      <td>текущая</td>\n",
       "      <td>оригинал</td>\n",
       "      <td>2021-07-22</td>\n",
       "      <td>2021</td>\n",
       "      <td>6</td>\n",
       "      <td>2021-06-22</td>\n",
       "      <td>False</td>\n",
       "      <td>21 days</td>\n",
       "    </tr>\n",
       "    <tr>\n",
       "      <th>256</th>\n",
       "      <td>286</td>\n",
       "      <td>3453.70</td>\n",
       "      <td>ОПЛАЧЕНО</td>\n",
       "      <td>Филимонова</td>\n",
       "      <td>текущая</td>\n",
       "      <td>оригинал</td>\n",
       "      <td>2021-07-22</td>\n",
       "      <td>2021</td>\n",
       "      <td>6</td>\n",
       "      <td>2021-06-22</td>\n",
       "      <td>False</td>\n",
       "      <td>21 days</td>\n",
       "    </tr>\n",
       "    <tr>\n",
       "      <th>257</th>\n",
       "      <td>287</td>\n",
       "      <td>6543.70</td>\n",
       "      <td>ОПЛАЧЕНО</td>\n",
       "      <td>Филимонова</td>\n",
       "      <td>текущая</td>\n",
       "      <td>оригинал</td>\n",
       "      <td>2021-08-12</td>\n",
       "      <td>2021</td>\n",
       "      <td>6</td>\n",
       "      <td>2021-06-12</td>\n",
       "      <td>False</td>\n",
       "      <td>42 days</td>\n",
       "    </tr>\n",
       "  </tbody>\n",
       "</table>\n",
       "<p>153 rows × 12 columns</p>\n",
       "</div>"
      ],
      "text/plain": [
       "     client_id       sum    status        sale new/current  document  \\\n",
       "5           18   4253.70  ОПЛАЧЕНО      Иванов     текущая  оригинал   \n",
       "6           20   5796.70  ОПЛАЧЕНО   Кузнецова     текущая  оригинал   \n",
       "7           21   3613.70  ОПЛАЧЕНО   Кузнецова     текущая  оригинал   \n",
       "12          32   7353.90  ОПЛАЧЕНО  Филимонова     текущая  оригинал   \n",
       "13          34   3892.52  ОПЛАЧЕНО  Филимонова     текущая  оригинал   \n",
       "..         ...       ...       ...         ...         ...       ...   \n",
       "251        273  10133.70  ОПЛАЧЕНО     Петрова     текущая  оригинал   \n",
       "252        277   4798.70  ОПЛАЧЕНО  Филимонова     текущая  оригинал   \n",
       "253        281   5733.70  ОПЛАЧЕНО   Селиванов     текущая  оригинал   \n",
       "256        286   3453.70  ОПЛАЧЕНО  Филимонова     текущая  оригинал   \n",
       "257        287   6543.70  ОПЛАЧЕНО  Филимонова     текущая  оригинал   \n",
       "\n",
       "    receiving_date  current_year  current_month current_date_helper  \\\n",
       "5       2021-07-07          2021              5          2021-05-07   \n",
       "6       2021-07-15          2021              5          2021-05-15   \n",
       "7       2021-10-13          2021              5          2021-05-13   \n",
       "12      2021-07-09          2021              5          2021-05-09   \n",
       "13      2021-07-09          2021              5          2021-05-09   \n",
       "..             ...           ...            ...                 ...   \n",
       "251     2021-07-06          2021              6          2021-06-06   \n",
       "252     2021-07-08          2021              6          2021-06-08   \n",
       "253     2021-07-22          2021              6          2021-06-22   \n",
       "256     2021-07-22          2021              6          2021-06-22   \n",
       "257     2021-08-12          2021              6          2021-06-12   \n",
       "\n",
       "    is_in_this_month receive_july_delta  \n",
       "5              False             6 days  \n",
       "6              False            14 days  \n",
       "7              False           104 days  \n",
       "12             False             8 days  \n",
       "13             False             8 days  \n",
       "..               ...                ...  \n",
       "251            False             5 days  \n",
       "252            False             7 days  \n",
       "253            False            21 days  \n",
       "256            False            21 days  \n",
       "257            False            42 days  \n",
       "\n",
       "[153 rows x 12 columns]"
      ]
     },
     "execution_count": 41,
     "metadata": {},
     "output_type": "execute_result"
    }
   ],
   "source": [
    "mask = (df['current_month'] < 7) & (df['new/current'] == 'текущая') & (df['status'] != 'ПРОСРОЧЕНО') & (df['receive_july_delta'] > pd.Timedelta(\"0 days\"))\n",
    "df[mask]"
   ]
  },
  {
   "cell_type": "markdown",
   "id": "13181544-fa79-47e0-aca0-b987bbcba824",
   "metadata": {},
   "source": [
    "Итог по второму условию"
   ]
  },
  {
   "cell_type": "code",
   "execution_count": 42,
   "id": "03e5ba76-7591-457b-a9f2-0bc18c937195",
   "metadata": {},
   "outputs": [
    {
     "data": {
      "text/plain": [
       "sale\n",
       "Андреев       3866.3687\n",
       "Васильев       849.5400\n",
       "Иванов        5778.7910\n",
       "Кузнецова     4496.9501\n",
       "Петрова       7893.2994\n",
       "Селиванов      960.7770\n",
       "Смирнов       6913.5090\n",
       "Соколов        269.2110\n",
       "Филимонова    1590.4899\n",
       "Name: salesman_percent, dtype: float64"
      ]
     },
     "execution_count": 42,
     "metadata": {},
     "output_type": "execute_result"
    }
   ],
   "source": [
    "def calc_salesman_percent(row):\n",
    "    return row['sum'] * 0.05 if row['sum'] > 10000.0 else row['sum'] * 0.03\n",
    "df['salesman_percent'] = df[mask].apply(lambda row: calc_salesman_percent(row), axis = 1)\n",
    "df[mask].groupby(['sale'])['salesman_percent'].sum()"
   ]
  },
  {
   "cell_type": "code",
   "execution_count": 43,
   "id": "82492ea6-3b47-4355-ae65-a7e2a434c8e1",
   "metadata": {},
   "outputs": [],
   "source": [
    "#from IPython.display import display, HTML\n",
    "#display(HTML(df[mask].to_html()))"
   ]
  }
 ],
 "metadata": {
  "kernelspec": {
   "display_name": "Python 3 (ipykernel)",
   "language": "python",
   "name": "python3"
  },
  "language_info": {
   "codemirror_mode": {
    "name": "ipython",
    "version": 3
   },
   "file_extension": ".py",
   "mimetype": "text/x-python",
   "name": "python",
   "nbconvert_exporter": "python",
   "pygments_lexer": "ipython3",
   "version": "3.11.7"
  }
 },
 "nbformat": 4,
 "nbformat_minor": 5
}
